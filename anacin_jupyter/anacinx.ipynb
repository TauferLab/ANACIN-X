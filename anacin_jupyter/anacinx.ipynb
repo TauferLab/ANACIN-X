{
 "cells": [
  {
   "cell_type": "code",
   "execution_count": 1,
   "id": "211116da",
   "metadata": {},
   "outputs": [
    {
     "data": {
      "text/html": [
       "<script>\n",
       "code_show=true; \n",
       "function code_toggle() {\n",
       " if (code_show){\n",
       " $('div.input').hide();\n",
       " } else {\n",
       " $('div.input').show();\n",
       " }\n",
       " code_show = !code_show\n",
       "} \n",
       "$( document ).ready(code_toggle);\n",
       "</script>\n",
       "<form action=\"javascript:code_toggle()\"><input type=\"submit\" value=\"Hide/Display Code\"></form>"
      ],
      "text/plain": [
       "<IPython.core.display.HTML object>"
      ]
     },
     "execution_count": 1,
     "metadata": {},
     "output_type": "execute_result"
    }
   ],
   "source": [
    "from IPython.display import HTML\n",
    "\n",
    "HTML('''<script>\n",
    "code_show=true; \n",
    "function code_toggle() {\n",
    " if (code_show){\n",
    " $('div.input').hide();\n",
    " } else {\n",
    " $('div.input').show();\n",
    " }\n",
    " code_show = !code_show\n",
    "} \n",
    "$( document ).ready(code_toggle);\n",
    "</script>\n",
    "<form action=\"javascript:code_toggle()\"><input type=\"submit\" value=\"Hide/Display Code\"></form>''')"
   ]
  },
  {
   "cell_type": "markdown",
   "id": "a07eaa7e",
   "metadata": {},
   "source": [
    "# Import Modules"
   ]
  },
  {
   "cell_type": "code",
   "execution_count": 2,
   "id": "92580081",
   "metadata": {},
   "outputs": [
    {
     "name": "stdout",
     "output_type": "stream",
     "text": [
      "Enabling notebook extension jupyter-js-widgets/extension...\r\n",
      "      - Validating: \u001b[32mOK\u001b[0m\r\n"
     ]
    }
   ],
   "source": [
    "!pip install ipywidgets > /dev/null\n",
    "!jupyter nbextension enable --py widgetsnbextension > /dev/null\n",
    "\n",
    "import os\n",
    "from tqdm import tqdm\n",
    "from IPython.display import Image, clear_output\n",
    "import ipywidgets as widgets\n",
    "from ipywidgets import interact, interact_manual\n",
    "# from anacinx_misc import *\n",
    "%run -i anacinx_misc.py"
   ]
  },
  {
   "cell_type": "code",
   "execution_count": 3,
   "id": "2c1fd2d7",
   "metadata": {},
   "outputs": [],
   "source": [
    "def create_instance(home_dir, image_path):\n",
    "    #!apptainer instance start -H /home/bbogale/results/ dir_anacinx/ anacin\n",
    "    cmd = 'apptainer instance start -H {} {} anacinx_jupyter_instance'.format(home_dir, image_path)\n",
    "    #!apptainer instance start -H home_dir image_path instance_name\n",
    "    !{cmd}\n",
    "\n",
    "def kill_instance():\n",
    "    !apptainer instance stop anacinx_jupyter_instance\n",
    "\n",
    "def clean_output_dir(output_dir):\n",
    "    #implement error checking\n",
    "    if output_dir == \"\":\n",
    "        return 0\n",
    "    os.system(\"rm -rf {}/*\".format(output_dir))\n",
    "    return 1\n",
    "\n",
    "def trace_execution(executable_path, args, benchmark_type, num_processes, num_runs, num_iterations, pnmpi_conf, step_start, step_size, step_end, message_size, output_dir):\n",
    "    gen_name = \"\"\n",
    "    if benchmark_type == \"message_race\":\n",
    "        gen_name = \"naive_reduce\"\n",
    "    elif benchmark_type == \"amg2013\":\n",
    "        gen_name = \"amg2013\"\n",
    "    #For benchmark\n",
    "    #Add functionality to choose message type\n",
    "#     !apptainer exec instance://anacin_jupyter_instance \\\n",
    "#     python3 /ANACIN-X/apps/comm_pattern_generator/config/json_gen.py \\\n",
    "#     \"naive_reduce\" 512 5 \"/home/bbogale/results/\" 0.0 0.1 1.0\n",
    "    \n",
    "    !apptainer exec instance://anacinx_jupyter_instance \\\n",
    "    python3 /ANACIN-X/apps/comm_pattern_generator/config/json_gen.py \\\n",
    "    {gen_name} {message_size} {num_iterations} \"{output_dir}/\" {step_start} {step_size} {step_end}\n",
    "#      \"naive_reduce\" {message_size} {num_iterations} \"{output_dir}/\" {step_start} {step_size} {step_end}\n",
    "\n",
    "    !apptainer exec instance://anacinx_jupyter_instance cp  /ANACIN-X/submodules/CSMPI/config/default_glibc.json {output_dir}\n",
    "    \n",
    "    for i in tqdm(range(0,int(num_runs))):\n",
    "        #Create run directory\n",
    "        run_dir = \"{}/run_{}/\".format(output_dir, str(i).rjust(3, \"0\"))\n",
    "        !mkdir {run_dir}\n",
    "        \n",
    "        #Copy CSMPI config file to run directories\n",
    "        !cp {output_dir}/default_glibc.json {run_dir}/\n",
    "\n",
    "        !sed -i 's|null|'{run_dir}'|g' {run_dir}/default_glibc.json\n",
    "        \n",
    "        !cd {run_dir} ; mpirun -np {num_processes} apptainer exec \\\n",
    "        --env LD_PRELOAD=/ANACIN-X/submodules/PnMPI/build/lib/libpnmpi.so \\\n",
    "        --env PNMPI_LIB_PATH=/ANACIN-X/anacin-x/pnmpi/patched_libs \\\n",
    "        --env PNMPI_CONF=/ANACIN-X/anacin-x/pnmpi/configs/{pnmpi_conf} \\\n",
    "        --env CSMPI_CONFIG={run_dir}/default_glibc.json \\\n",
    "        instance://anacinx_jupyter_instance {executable_path} {args} > /dev/null\n",
    "        \n",
    "   \n",
    "    #Delete CSMPI conf from output dir\n",
    "    !rm {output_dir}/default_glibc.json\n",
    "    \n",
    "def generate_event_graph(num_processess, num_runs, dumpi_config,  output_dir):\n",
    "    #Come back to this later and add config selection functionality\n",
    "    dumpi_to_graph_bin=\"/ANACIN-X/submodules/dumpi_to_graph/build/dumpi_to_graph\"\n",
    "    #dumpi_to_graph_config=\"/ANACIN-X/submodules/dumpi_to_graph/config/\" + {dumpi_config}\n",
    "    dumpi_to_graph_config=\"/ANACIN-X/submodules/dumpi_to_graph/config/\"\n",
    "\n",
    "    #dumpi_to_graph_config=\"/ANACIN-X/submodules/dumpi_to_graph/config/dumpi_and_csmpi.json\"\n",
    "\n",
    "    \n",
    "    for i in tqdm(range(0, num_runs)):\n",
    "        run_dir = \"{}/run_{}/\".format(output_dir, str(i).rjust(3, \"0\"))\n",
    "        !cd {run_dir} ; \\\n",
    "        mpirun -np {num_processess} apptainer exec instance://anacinx_jupyter_instance {dumpi_to_graph_bin} {dumpi_to_graph_config}{dumpi_config} {run_dir} > /dev/null\n",
    "    \n",
    "    #!mpirun -np {num_processess} {dumpi_to_graph_bin} {dumpi_to_graph_config} {run_dir}\n",
    "    \n",
    "def extract_slices(num_processess, num_runs, slicing_policy_config, output_dir):\n",
    "    #Add functionality to select custom slicing policies\n",
    "    #slicing_policy=\"/ANACIN-X/anacin-x/event_graph_analysis/slicing_policies/barrier_delimited_full.json\"\n",
    "    #slicing_policy=\"/ANACIN-X/anacin-x/event_graph_analysis/slicing_policies/\" + {slicing_policy_config}\n",
    "    slicing_policy=\"/ANACIN-X/anacin-x/event_graph_analysis/slicing_policies/\"\n",
    "\n",
    "    \n",
    "    for i in tqdm(range(0, num_runs)):\n",
    "        run_dir = \"{}/run_{}/\".format(output_dir, str(i).rjust(3, \"0\"))\n",
    "        !cd {run_dir} ; mpirun -np {num_processess} \\\n",
    "        apptainer exec instance://anacinx_jupyter_instance \\\n",
    "        /ANACIN-X/anacin-x/event_graph_analysis/extract_slices.py {run_dir}/\"event_graph.graphml\" {slicing_policy}{slicing_policy_config} -o \"slices\" > /dev/null\n",
    "            \n",
    "def compute_kdts(num_processess, slicing_policy_config, output_dir):\n",
    "    #Consult Jack about this\n",
    "    graph_kernel_policy = \"/ANACIN-X/anacin-x/event_graph_analysis/graph_kernel_policies/wlst_5iters_logical_timestamp_label.json\"\n",
    "    #slicing_policy=\"/ANACIN-X/anacin-x/event_graph_analysis/slicing_policies/barrier_delimited_full.json\"\n",
    "    slicing_policy=\"/ANACIN-X/anacin-x/event_graph_analysis/slicing_policies/\"\n",
    "    \n",
    "    !cd {output_dir} ; \\\n",
    "    mpirun -np {num_processess} apptainer exec instance://anacinx_jupyter_instance \\\n",
    "    /ANACIN-X/anacin-x/event_graph_analysis/compute_kernel_distance_time_series.py \\\n",
    "    {output_dir} {graph_kernel_policy} --slicing_policy {slicing_policy}{slicing_policy_config} -o \"kdts.pkl\" --slice_dir_name {output_dir}/\"slices\" -c > /dev/null\n",
    "        \n",
    "def create_graph(output_dir, step_start, step_size, step_end):\n",
    "    !apptainer exec instance://anacinx_jupyter_instance \\\n",
    "    bash -c 'python3 /ANACIN-X/anacin-x/event_graph_analysis/visualization/make_message_nd_plot.py \\\n",
    "    {output_dir}/kdts.pkl \\\n",
    "    message_race \\\n",
    "    /ANACIN-X/anacin-x/event_graph_analysis/graph_kernel_policies/wlst_5iters_logical_timestamp_label.json \\\n",
    "    {output_dir}/kdts \\\n",
    "    {step_start} {step_size} {step_end}'\n",
    "        \n",
    "#     0.0 0.1 1.0'\n",
    "    \n",
    "    \n",
    "    \n"
   ]
  },
  {
   "cell_type": "markdown",
   "id": "34d94cf7",
   "metadata": {},
   "source": [
    "# Image and Output Paths"
   ]
  },
  {
   "cell_type": "code",
   "execution_count": 4,
   "id": "287c7469",
   "metadata": {
    "scrolled": true
   },
   "outputs": [
    {
     "data": {
      "application/vnd.jupyter.widget-view+json": {
       "model_id": "cfa993e3c5344cd3a109e54d83ef9dae",
       "version_major": 2,
       "version_minor": 0
      },
      "text/plain": [
       "Text(value='', description='Enter output directory path:', layout=Layout(width='50%'), style=DescriptionStyle(…"
      ]
     },
     "metadata": {},
     "output_type": "display_data"
    }
   ],
   "source": [
    "display(output_dir_widget)"
   ]
  },
  {
   "cell_type": "code",
   "execution_count": 5,
   "id": "0016e021",
   "metadata": {},
   "outputs": [
    {
     "data": {
      "application/vnd.jupyter.widget-view+json": {
       "model_id": "5cb427b256614291830a17df0df7d8a6",
       "version_major": 2,
       "version_minor": 0
      },
      "text/plain": [
       "Text(value='', description='Enter container image path:', layout=Layout(width='50%'), style=DescriptionStyle(d…"
      ]
     },
     "metadata": {},
     "output_type": "display_data"
    }
   ],
   "source": [
    "display(image_path_widget)"
   ]
  },
  {
   "cell_type": "markdown",
   "id": "26e5c66b",
   "metadata": {},
   "source": [
    "# Create Instance"
   ]
  },
  {
   "cell_type": "code",
   "execution_count": 6,
   "id": "2dff1ad7",
   "metadata": {},
   "outputs": [
    {
     "data": {
      "application/vnd.jupyter.widget-view+json": {
       "model_id": "e8452f0a531842a29a8cbf28434052c1",
       "version_major": 2,
       "version_minor": 0
      },
      "text/plain": [
       "Button(button_style='success', description='Create Instance', layout=Layout(width='50%'), style=ButtonStyle())"
      ]
     },
     "metadata": {},
     "output_type": "display_data"
    },
    {
     "name": "stdout",
     "output_type": "stream",
     "text": [
      "Creating Instance..\n",
      "\u001b[34mINFO:   \u001b[0m instance started successfully\n"
     ]
    }
   ],
   "source": [
    "display(create_instance_widget)"
   ]
  },
  {
   "cell_type": "markdown",
   "id": "5f0467b6",
   "metadata": {},
   "source": [
    "<!-- ### Demonstration\n",
    "- We will follow each step of the execution process:\n",
    "    1. Trace execution\n",
    "    2. Event graph generation\n",
    "    3. Slice extraction\n",
    "    2. Visualization -->"
   ]
  },
  {
   "cell_type": "markdown",
   "id": "ac4eb1a0",
   "metadata": {},
   "source": [
    "# Type and Parameter Selection"
   ]
  },
  {
   "cell_type": "code",
   "execution_count": 7,
   "id": "f4eb7626",
   "metadata": {
    "scrolled": true,
    "tags": [
     "hide-input"
    ]
   },
   "outputs": [
    {
     "data": {
      "application/vnd.jupyter.widget-view+json": {
       "model_id": "0244a37ab90d47b399f41244d5001491",
       "version_major": 2,
       "version_minor": 0
      },
      "text/plain": [
       "HBox(children=(Button(description='Benchmark', layout=Layout(width='50%'), style=ButtonStyle()), Button(descri…"
      ]
     },
     "metadata": {},
     "output_type": "display_data"
    },
    {
     "data": {
      "application/vnd.jupyter.widget-view+json": {
       "model_id": "ec1215b4934b418885a32ce541d7a799",
       "version_major": 2,
       "version_minor": 0
      },
      "text/plain": [
       "Dropdown(description='Benchmark Application:', index=1, layout=Layout(width='50%'), options=(('', ''), ('Messa…"
      ]
     },
     "metadata": {},
     "output_type": "display_data"
    },
    {
     "data": {
      "application/vnd.jupyter.widget-view+json": {
       "model_id": "b1e03fab65a14ad3b0b72cae2cabaf2f",
       "version_major": 2,
       "version_minor": 0
      },
      "text/plain": [
       "IntText(value=0, description='Number of processess:', layout=Layout(width='50%'), style=DescriptionStyle(descr…"
      ]
     },
     "metadata": {},
     "output_type": "display_data"
    },
    {
     "data": {
      "application/vnd.jupyter.widget-view+json": {
       "model_id": "386ba770ef2c425cb6476032aab91fe9",
       "version_major": 2,
       "version_minor": 0
      },
      "text/plain": [
       "IntText(value=0, description='Number of runs:', layout=Layout(width='50%'), style=DescriptionStyle(description…"
      ]
     },
     "metadata": {},
     "output_type": "display_data"
    },
    {
     "data": {
      "application/vnd.jupyter.widget-view+json": {
       "model_id": "d85ac129411b48d6ab87718e82d62046",
       "version_major": 2,
       "version_minor": 0
      },
      "text/plain": [
       "IntText(value=0, description='Number of iterations:', layout=Layout(width='50%'), style=DescriptionStyle(descr…"
      ]
     },
     "metadata": {},
     "output_type": "display_data"
    },
    {
     "data": {
      "application/vnd.jupyter.widget-view+json": {
       "model_id": "af1d0269f7fe4a689cb3b61c2dba55f7",
       "version_major": 2,
       "version_minor": 0
      },
      "text/plain": [
       "Dropdown(description='PnMPI Config:', layout=Layout(width='50%'), options=(('', ''), ('csmpi', 'csmpi.conf'), …"
      ]
     },
     "metadata": {},
     "output_type": "display_data"
    },
    {
     "data": {
      "application/vnd.jupyter.widget-view+json": {
       "model_id": "fef0d46e32894564bdb8fe9ad09403e7",
       "version_major": 2,
       "version_minor": 0
      },
      "text/plain": [
       "Text(value='', description='Starting Step', layout=Layout(width='50%'), style=DescriptionStyle(description_wid…"
      ]
     },
     "metadata": {},
     "output_type": "display_data"
    },
    {
     "data": {
      "application/vnd.jupyter.widget-view+json": {
       "model_id": "9059dd4fdff24fc0a02bb38e5f8075a9",
       "version_major": 2,
       "version_minor": 0
      },
      "text/plain": [
       "Text(value='', description='Step Size', layout=Layout(width='50%'), style=DescriptionStyle(description_width='…"
      ]
     },
     "metadata": {},
     "output_type": "display_data"
    },
    {
     "data": {
      "application/vnd.jupyter.widget-view+json": {
       "model_id": "644fe1774d28467b81b20de4eb4e8ef7",
       "version_major": 2,
       "version_minor": 0
      },
      "text/plain": [
       "Text(value='', description='Step End', layout=Layout(width='50%'), style=DescriptionStyle(description_width='i…"
      ]
     },
     "metadata": {},
     "output_type": "display_data"
    },
    {
     "data": {
      "application/vnd.jupyter.widget-view+json": {
       "model_id": "c94ba0ce251145dc920d07aa3e505f87",
       "version_major": 2,
       "version_minor": 0
      },
      "text/plain": [
       "Text(value='', description='Message Size (bytes)', layout=Layout(width='50%'), style=DescriptionStyle(descript…"
      ]
     },
     "metadata": {},
     "output_type": "display_data"
    }
   ],
   "source": [
    "display(widgets.HBox([benchmark_type_selector_widget, extern_type_selector_widget]))"
   ]
  },
  {
   "cell_type": "markdown",
   "id": "9830678d",
   "metadata": {},
   "source": [
    "# Execution Trace Collection"
   ]
  },
  {
   "cell_type": "code",
   "execution_count": 8,
   "id": "6a6a5ea3",
   "metadata": {
    "scrolled": true
   },
   "outputs": [
    {
     "data": {
      "application/vnd.jupyter.widget-view+json": {
       "model_id": "167ff7b1bf0444e6970035966cf5ed23",
       "version_major": 2,
       "version_minor": 0
      },
      "text/plain": [
       "Button(description='Trace', layout=Layout(width='50%'), style=ButtonStyle())"
      ]
     },
     "metadata": {},
     "output_type": "display_data"
    },
    {
     "name": "stdout",
     "output_type": "stream",
     "text": [
      "Tracing...\n"
     ]
    },
    {
     "name": "stderr",
     "output_type": "stream",
     "text": [
      "\r",
      "  0%|                                                                                                                                                                    | 0/2 [00:00<?, ?it/s]"
     ]
    }
   ],
   "source": [
    "display(trace_widget)"
   ]
  },
  {
   "cell_type": "code",
   "execution_count": 9,
   "id": "8e8645d8",
   "metadata": {},
   "outputs": [
    {
     "name": "stdout",
     "output_type": "stream",
     "text": [
      "\n"
     ]
    }
   ],
   "source": [
    "print(param_benchmark_type)"
   ]
  },
  {
   "cell_type": "code",
   "execution_count": null,
   "id": "e9b383fb",
   "metadata": {},
   "outputs": [],
   "source": []
  },
  {
   "cell_type": "markdown",
   "id": "942f71a9",
   "metadata": {},
   "source": [
    "# Event Graph Generation"
   ]
  },
  {
   "cell_type": "code",
   "execution_count": 10,
   "id": "041b3243",
   "metadata": {
    "scrolled": true
   },
   "outputs": [
    {
     "data": {
      "application/vnd.jupyter.widget-view+json": {
       "model_id": "6779a881d40842778bc44797ed77ef6f",
       "version_major": 2,
       "version_minor": 0
      },
      "text/plain": [
       "Button(description='Generate Event Graph', layout=Layout(width='50%'), style=ButtonStyle())"
      ]
     },
     "metadata": {},
     "output_type": "display_data"
    }
   ],
   "source": [
    "display(gen_event_graph_widget)"
   ]
  },
  {
   "cell_type": "markdown",
   "id": "6da510d0",
   "metadata": {},
   "source": [
    "# Slices Extraction"
   ]
  },
  {
   "cell_type": "code",
   "execution_count": 11,
   "id": "02105741",
   "metadata": {
    "scrolled": true
   },
   "outputs": [
    {
     "data": {
      "application/vnd.jupyter.widget-view+json": {
       "model_id": "9ff458c9d62b43b7846b2bc74be9b5fb",
       "version_major": 2,
       "version_minor": 0
      },
      "text/plain": [
       "Button(description='Extract Slices', layout=Layout(width='50%'), style=ButtonStyle())"
      ]
     },
     "metadata": {},
     "output_type": "display_data"
    }
   ],
   "source": [
    "display(slice_extraction_widget)"
   ]
  },
  {
   "cell_type": "markdown",
   "id": "f02abdde",
   "metadata": {},
   "source": [
    "# KDTS Computation"
   ]
  },
  {
   "cell_type": "code",
   "execution_count": 12,
   "id": "566914a4",
   "metadata": {
    "scrolled": true
   },
   "outputs": [
    {
     "data": {
      "application/vnd.jupyter.widget-view+json": {
       "model_id": "ddb85ebf8d3747db96c5b5eecbb9cd78",
       "version_major": 2,
       "version_minor": 0
      },
      "text/plain": [
       "Button(description='Compute KDTS', layout=Layout(width='50%'), style=ButtonStyle())"
      ]
     },
     "metadata": {},
     "output_type": "display_data"
    }
   ],
   "source": [
    "display(compute_kdts_widget)"
   ]
  },
  {
   "cell_type": "markdown",
   "id": "5b50502f",
   "metadata": {},
   "source": [
    "# Viualization"
   ]
  },
  {
   "cell_type": "code",
   "execution_count": 13,
   "id": "2feb99fd",
   "metadata": {
    "scrolled": true
   },
   "outputs": [
    {
     "data": {
      "application/vnd.jupyter.widget-view+json": {
       "model_id": "8f870a271e6c46d5b16aa83d601a955e",
       "version_major": 2,
       "version_minor": 0
      },
      "text/plain": [
       "Button(description='Create Visualization', layout=Layout(width='50%'), style=ButtonStyle())"
      ]
     },
     "metadata": {},
     "output_type": "display_data"
    }
   ],
   "source": [
    "display(create_visualization_widget)"
   ]
  },
  {
   "cell_type": "code",
   "execution_count": 14,
   "id": "4e1375d9",
   "metadata": {},
   "outputs": [
    {
     "data": {
      "application/vnd.jupyter.widget-view+json": {
       "model_id": "104c7983a12a4b41b2c0553d6f5aad3b",
       "version_major": 2,
       "version_minor": 0
      },
      "text/plain": [
       "Button(description='Display Visualization', layout=Layout(width='50%'), style=ButtonStyle())"
      ]
     },
     "metadata": {},
     "output_type": "display_data"
    }
   ],
   "source": [
    "display(display_visualization_widget)"
   ]
  },
  {
   "cell_type": "markdown",
   "id": "142f99e6",
   "metadata": {},
   "source": [
    "# Kill"
   ]
  },
  {
   "cell_type": "code",
   "execution_count": 15,
   "id": "b36eeb54",
   "metadata": {},
   "outputs": [
    {
     "data": {
      "application/vnd.jupyter.widget-view+json": {
       "model_id": "55cfcb9e8efb494698404761328788e9",
       "version_major": 2,
       "version_minor": 0
      },
      "text/plain": [
       "Button(button_style='danger', description='Kill Instance', layout=Layout(width='50%'), style=ButtonStyle())"
      ]
     },
     "metadata": {},
     "output_type": "display_data"
    }
   ],
   "source": [
    "display(kill_instance_widget)\n"
   ]
  }
 ],
 "metadata": {
  "kernelspec": {
   "display_name": "Python 3 (ipykernel)",
   "language": "python",
   "name": "python3"
  },
  "language_info": {
   "codemirror_mode": {
    "name": "ipython",
    "version": 3
   },
   "file_extension": ".py",
   "mimetype": "text/x-python",
   "name": "python",
   "nbconvert_exporter": "python",
   "pygments_lexer": "ipython3",
   "version": "3.9.16"
  }
 },
 "nbformat": 4,
 "nbformat_minor": 5
}
